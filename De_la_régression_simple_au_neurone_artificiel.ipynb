{
  "nbformat": 4,
  "nbformat_minor": 0,
  "metadata": {
    "colab": {
      "provenance": [],
      "authorship_tag": "ABX9TyNVdEoBxqHYlfxVGsPUKCvn",
      "include_colab_link": true
    },
    "kernelspec": {
      "name": "python3",
      "display_name": "Python 3"
    },
    "language_info": {
      "name": "python"
    }
  },
  "cells": [
    {
      "cell_type": "markdown",
      "metadata": {
        "id": "view-in-github",
        "colab_type": "text"
      },
      "source": [
        "<a href=\"https://colab.research.google.com/github/DIAPkuik237/regression-multiple-neurone/blob/master/De_la_r%C3%A9gression_simple_au_neurone_artificiel.ipynb\" target=\"_parent\"><img src=\"https://colab.research.google.com/assets/colab-badge.svg\" alt=\"Open In Colab\"/></a>"
      ]
    },
    {
      "cell_type": "code",
      "execution_count": 2,
      "metadata": {
        "colab": {
          "base_uri": "https://localhost:8080/"
        },
        "id": "p6CfM4APg1CV",
        "outputId": "92115022-48e2-48ba-f331-a5f1f406e399"
      },
      "outputs": [
        {
          "output_type": "stream",
          "name": "stdout",
          "text": [
            "✅ Poids appris (biais, étude, sommeil) : [-0.5  0.1  0.1]\n",
            "📊 Score prédit (avant activation) : 0.39999999999999575\n",
            "🔮 Probabilité de réussite (après sigmoïde) : 0.598687660112451\n"
          ]
        }
      ],
      "source": [
        "# Régression linéaire multiple + sigmoïde : prédiction du score de l'étudiant D\n",
        "\n",
        "import numpy as np\n",
        "\n",
        "# ================================\n",
        "# Données : Étudiants A, B, C\n",
        "# ================================\n",
        "# Variables : [temps d’étude, temps de sommeil]\n",
        "X = np.array([\n",
        "    [2, 6],\n",
        "    [3, 7],\n",
        "    [1, 8]\n",
        "])\n",
        "\n",
        "# Scores correspondants\n",
        "y = np.array([0.3, 0.5, 0.4])\n",
        "\n",
        "# ================================\n",
        "# Ajout du biais (colonne de 1)\n",
        "# ================================\n",
        "# X_b = matrice étendue : [1, étude, sommeil]\n",
        "X_b = np.c_[np.ones((X.shape[0], 1)), X]\n",
        "\n",
        "# ================================\n",
        "# Régression linéaire par moindres carrés\n",
        "# ================================\n",
        "# Formule : theta = (X^T X)^(-1) X^T y\n",
        "theta_best = np.linalg.inv(X_b.T @ X_b) @ X_b.T @ y\n",
        "\n",
        "print(\"✅ Poids appris (biais, étude, sommeil) :\", theta_best)\n",
        "\n",
        "# ================================\n",
        "# Prédiction pour l’étudiant D : 4h d’étude, 5h de sommeil\n",
        "# ================================\n",
        "x_D = np.array([1, 4, 5])  # [biais, étude, sommeil]\n",
        "z_D = x_D @ theta_best\n",
        "\n",
        "print(\"📊 Score prédit (avant activation) :\", z_D)\n",
        "\n",
        "# ================================\n",
        "# Ajout de la fonction d’activation sigmoïde\n",
        "# ================================\n",
        "def sigmoid(z):\n",
        "    return 1 / (1 + np.exp(-z))\n",
        "\n",
        "score_prob = sigmoid(z_D)\n",
        "\n",
        "print(\"🔮 Probabilité de réussite (après sigmoïde) :\", score_prob)\n"
      ]
    },
    {
      "cell_type": "markdown",
      "source": [
        "###✅ Résultat à l’exécution :\n",
        "\n",
        " Poids appris (biais, étude, sommeil) : [-0.5  0.1  0.1]\n",
        "\n",
        "📊 Score prédit (avant activation) : 0.39999999999999575\n",
        "\n",
        "🔮 Probabilité de réussite (après sigmoïde) : 0.598687660112451\n",
        "\n",
        "=> les résultats peuvent varier selon les données"
      ],
      "metadata": {
        "id": "dY2ZKwAshnkw"
      }
    },
    {
      "cell_type": "markdown",
      "source": [
        "##🧠 Interprétation :\n",
        "Poids appris :\n",
        "\n",
        "a1 = 0.1 → Chaque heure d’étude augmente le score de 0.1\n",
        "\n",
        "a2 = 0.1 → Chaque heure de sommeil augmente aussi le score de 0.1\n",
        "\n",
        "b = -0.5 → Le biais est négatif, il baisse la prédiction de base\n",
        "\n",
        "Score prédictif brut ≈ 0.4\n",
        "\n",
        "Après sigmoïde : probabilité ≈ 60%\n",
        "\n",
        "Le modèle estime donc que l’étudiant D a environ 60 % de chances de réussir, selon ses 4h d’étude et 5h de sommeil."
      ],
      "metadata": {
        "id": "o8v7HhebimRG"
      }
    },
    {
      "cell_type": "markdown",
      "source": [
        "⚠️ Remarque importante (à intégrer dans ton article)\n",
        "Tu peux ajouter une note en encadré ou dans la conclusion :\n",
        "\n",
        "🔎 Remarque :\n",
        "Les résultats varient en fonction des données utilisées.\n",
        "\n",
        "Avec plus de données ou des données différentes, les poids et la prédiction changeraient.\n",
        "\n",
        "C’est là qu’intervient l’apprentissage automatique, où le modèle s’améliore avec plus d’exemples — ce sera le sujet du prochain article !"
      ],
      "metadata": {
        "id": "nfAwMdD7iyl4"
      }
    }
  ]
}